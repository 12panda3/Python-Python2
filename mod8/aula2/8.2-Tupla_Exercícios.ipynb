{
 "cells": [
  {
   "cell_type": "markdown",
   "id": "0d5035b5",
   "metadata": {},
   "source": [
    "# Tupla\n",
    "\n",
    "## Aula 8.2"
   ]
  },
  {
   "cell_type": "markdown",
   "id": "0bdece85",
   "metadata": {},
   "source": [
    "### Q1. \n",
    "\n",
    "Escreva uma função ```calcula_area_perimetro``` que recebe **apenas um parâmetro** ```dimensoes``` e calcula a área e o perímetro a partir das dimensões dadas. \n",
    "- ```dimensoes``` é uma tupla (largura, comprimento) com as dimensões de um terreno retangular\n",
    "- Sua função deve calcular e retornar as seguintes operações\n",
    "   - $area = largura \\times comprimento$\n",
    "   - $perimetro = 2\\times(largura + comprimento)$\n"
   ]
  },
  {
   "cell_type": "code",
   "execution_count": 1,
   "id": "0a258eba",
   "metadata": {},
   "outputs": [],
   "source": [
    "# Implemente aqui a função calcula_area_perimetro\n",
    "def calcula_area_perimetro(di):\n",
    "    a, p = (di[0] * di[1]), (2 * (di[0] + di[1]))\n",
    "    \n",
    "    return a, p"
   ]
  },
  {
   "cell_type": "code",
   "execution_count": 2,
   "id": "e1866c04",
   "metadata": {},
   "outputs": [
    {
     "name": "stdout",
     "output_type": "stream",
     "text": [
      "(35, 24) <class 'tuple'>\n"
     ]
    }
   ],
   "source": [
    "# Complete o exemplo de uso abaixo\n",
    "largura = 5\n",
    "comprimento = 7\n",
    "dimensoes = (largura, comprimento)\n",
    "\n",
    "retorno = calcula_area_perimetro(dimensoes)\n",
    "print(retorno, type(retorno))"
   ]
  },
  {
   "cell_type": "markdown",
   "id": "cbdcb986",
   "metadata": {},
   "source": [
    "### Q2.\n",
    "\n",
    "Dada uma string, imprima todas as vogais que aparecem na string, bem como todos os índices onde elas ocorrem. Para isso, use a função ```enumerate```.\n"
   ]
  },
  {
   "cell_type": "code",
   "execution_count": 18,
   "id": "1f6b1f2d",
   "metadata": {},
   "outputs": [
    {
     "name": "stdout",
     "output_type": "stream",
     "text": [
      "(0, 'O', 3, 'a', 5, 'o', 8, 'o', 9, 'e', 10, 'u', 12, 'a', 15, 'o', 16, 'u', 18, 'a', 21, 'a', 23, 'A', 25, 'i', 27, 'e')\n"
     ]
    }
   ],
   "source": [
    "frase = \"O rato roeu a roupa da Alice\"\n",
    "vogais = ()\n",
    "# Implemente aqui sua solução\n",
    "        \n",
    "for index, i in enumerate(frase):\n",
    "    if i in 'aeiouAEIOU':\n",
    "        vogais += (index, i)\n",
    "\n",
    "\n",
    "print(vogais)\n",
    "\n"
   ]
  },
  {
   "cell_type": "markdown",
   "id": "8d46663f",
   "metadata": {},
   "source": [
    "### Q3.\n",
    "\n",
    "Escreva uma função em Python chamada ```ordenar_tuplas``` que recebe uma lista de tuplas, cada uma contendo o nome de um aluno e sua respectiva média, e retorna uma nova lista ordenada em ordem decrescente de médias."
   ]
  },
  {
   "cell_type": "code",
   "execution_count": 22,
   "id": "469f2e6e",
   "metadata": {},
   "outputs": [],
   "source": [
    "# Implemente aqui a função ordenar_tuplas\n",
    "def ordenar_tuplas(listaTuplas):\n",
    "    listaOrdenada = sorted(listaTuplas, key=lambda x:x[1], reverse=True)\n",
    "\n",
    "    return listaOrdenada"
   ]
  },
  {
   "cell_type": "code",
   "execution_count": 23,
   "id": "1972c62b",
   "metadata": {},
   "outputs": [
    {
     "name": "stdout",
     "output_type": "stream",
     "text": [
      "[('Charlie', 9.0), ('David', 8.8), ('Alice', 8.5), ('Bob', 7.2)]\n"
     ]
    }
   ],
   "source": [
    "# Exemplo de uso:\n",
    "alunos_notas = [('Alice', 8.5), ('Bob', 7.2), ('Charlie', 9.0), ('David', 8.8)]\n",
    "resultado = ordenar_tuplas(alunos_notas)\n",
    "print(resultado)\n",
    "# Saída esperada: [('Charlie', 9.0), ('David', 8.8), ('Alice', 8.5), ('Bob', 7.2)]"
   ]
  },
  {
   "cell_type": "markdown",
   "id": "e0268fae",
   "metadata": {},
   "source": [
    "### Q4.\n",
    "\n",
    "Escreva uma função em Python chamada ```comprimir_tuplas``` que recebe uma lista de tuplas, cada uma contendo uma palavra e um número, e retorna uma nova lista de tuplas onde palavras idênticas são agrupadas e seus números são somados.\n",
    "\n"
   ]
  },
  {
   "cell_type": "code",
   "execution_count": null,
   "id": "30a221f3",
   "metadata": {},
   "outputs": [],
   "source": [
    "# Implemente aqui a função comprimir_tuplas\n",
    "def comprimir_tuplas(listaTuplas2):\n",
    "    tuplasModificadas = []\n",
    "    usados = []\n",
    "\n",
    "    for i in range(len(listaTuplas2)):\n",
    "        for f in range(i+1, len(listaTuplas2)):\n",
    "            if (listaTuplas2[i][0] == listaTuplas2[f][0]) and listaTuplas2[i][0] not in usados:\n",
    "                tupleModelo = []\n",
    "\n",
    "                palavra = listaTuplas2[i][0]\n",
    "                soma = (listaTuplas2[i][1]) + (listaTuplas2[f][1])\n",
    "                tupleModelo.append(palavra)\n",
    "                tupleModelo.append(soma)\n",
    "\n",
    "                outraTuplaMeuDeus = tuple(tupleModelo)\n",
    "                tuplasModificadas.append(outraTuplaMeuDeus)\n",
    "                usados.append(palavra)\n",
    "\n",
    "    for tuplas in listaTuplas2:\n",
    "        if tuplas[0] not in usados:\n",
    "            tuplasModificadas.append(tuplas)\n",
    "    \n",
    "    return tuplasModificadas\n"
   ]
  },
  {
   "cell_type": "code",
   "execution_count": 35,
   "id": "80972bac",
   "metadata": {},
   "outputs": [
    {
     "name": "stdout",
     "output_type": "stream",
     "text": [
      "[('maçã', 8), ('banana', 5), ('laranja', 1)]\n"
     ]
    }
   ],
   "source": [
    "# Exemplo de uso:\n",
    "tuplas_originais = [('maçã', 3), ('banana', 2), ('maçã', 5), ('laranja', 1), ('banana', 3)]\n",
    "resultado = comprimir_tuplas(tuplas_originais)\n",
    "print(resultado)\n",
    "# Saída esperada: [('maçã', 8), ('banana', 5), ('laranja', 1)]"
   ]
  },
  {
   "cell_type": "markdown",
   "id": "649a5082",
   "metadata": {},
   "source": [
    "### Q5. \n",
    "\n",
    "- Escreva um script que peça o nome e a idade de todos na fila de uma balada. Crie uma lista de tuplas com os pares ```(nome, idade)``` de cada um. \n",
    "- Em seguida crie e imprima duas tuplas apenas com os nomes, uma com os menores de idade que não poderão entrar, e uma com os maiores de idade (```idade >= 18```). \n",
    "\n"
   ]
  },
  {
   "cell_type": "code",
   "execution_count": null,
   "id": "47cb0573",
   "metadata": {},
   "outputs": [],
   "source": [
    "## Implemente aqui sua solução\n",
    "pessoas = []\n",
    "\n",
    "while True:\n",
    "    nome = str(input('digite seu nome (ou sair): '))\n",
    "    if nome == 'sair':\n",
    "        break\n",
    "    \n",
    "    idade = int(input('digite sua idade: '))\n",
    "    pessoas.append((nome, idade))\n",
    "\n",
    "menores = tuple([nome for nome, idade in pessoas if idade < 18])\n",
    "maiores = tuple([nome for nome, idade in pessoas if idade >= 18])\n",
    "        \n",
    "\n",
    "print('maiores: ', maiores)\n",
    "print('menores: ', menores)"
   ]
  }
 ],
 "metadata": {
  "kernelspec": {
   "display_name": "Python 3",
   "language": "python",
   "name": "python3"
  },
  "language_info": {
   "codemirror_mode": {
    "name": "ipython",
    "version": 3
   },
   "file_extension": ".py",
   "mimetype": "text/x-python",
   "name": "python",
   "nbconvert_exporter": "python",
   "pygments_lexer": "ipython3",
   "version": "3.12.2"
  }
 },
 "nbformat": 4,
 "nbformat_minor": 5
}
